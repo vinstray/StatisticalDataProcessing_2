{
 "cells": [
  {
   "cell_type": "markdown",
   "id": "b6e84e25-c9ed-466b-a41a-6e64b2be514a",
   "metadata": {
    "tags": []
   },
   "source": [
    "# Relationship between variables: \n",
    "## <i>Linear Correlation and Linear Regrassion </i>\n",
    "\n",
    "For each sampling or experimental teast we have two or more observations/measures (variables). If two variable are __related__, they vary togheter.\n",
    "If two variables are __funcionally related__, they vary togheter and the value of one variable can be __predicted__ from the value of the other variable.\n",
    "\n",
    "This relationship can be observed by the analysis of the pattern between the bivariate data (ScatterPlot).\n",
    "\n",
    "It is sufficient to affirms that the two variable of the population are related? \n",
    " NO! It could be an apparent relationship occurred by chance. We need *statistical procedures.*\n",
    "\n",
    "A statistical test will provide:\n",
    "- the strength of the relationship;\n",
    "- the probability of the result\n",
    "\n",
    "Two methods (quantitative data): \n",
    "- linear correlation (relationship)\n",
    "- linear regression (functional relationship)"
   ]
  },
  {
   "cell_type": "markdown",
   "id": "74a26777-91c0-4355-a0cf-f760ad611df1",
   "metadata": {
    "tags": []
   },
   "source": [
    "## 1. Linear correlation\n",
    "\n",
    "<img src=\"https://upload.wikimedia.org/wikipedia/commons/3/34/Correlation_coefficient.png\" width=\"300\">\n",
    "\n",
    "\n",
    "__Pearson correlation coefficient__\n",
    "\n",
    "Firstly we need to tranform bivariate data measured on different scales to their Z score (mean = 0 and std= 1)\n",
    "formula: \n",
    "$$Z=\\frac{{X_1}-\\bar{X}}{s}$$\n",
    "\n",
    "The pearson correlation $r$ formulas:\n",
    "\n",
    "$$r = \\frac{\\sum_{i=1}^{n} (x_i - \\bar{x})(y_i - \\bar{y})}{\\sqrt{\\sum_{i=1}^{n} (x_i - \\bar{x})^2} \\sqrt{\\sum_{i=1}^{n} (y_i - \\bar{y})^2}}$$\n",
    "\n",
    "Where $r$ is the Pearson correlation coefficient, $x_i$ and $y_i$ are the values of the two variables at observation $i$, $n$ is the number of observations, and $\\bar{x}$ and $\\bar{y}$ are the means of the variables $x$\n",
    "\n",
    "\n",
    "The coefficient of determination $R^2$:\n",
    "\n",
    "$$R^2 = 1 - \\frac{\\sum_{i=1}^{n} (y_i - \\hat{y_i})^2}{\\sum_{i=1}^{n} (y_i - \\bar{y})^2}$$\n",
    "\n",
    "Where $n$ is the number of observations, $y_i$ are the observed values, $\\hat{y_i}$ are the predicted values, and $\\bar{y}$ is the mean of the observed values.\n",
    "\n",
    "$R^2$ is a statistic that shows the proportion of the total variation of the values of $Y$ from the avarage $\\bar{Y}$ that is explained by the regression line.\n",
    "\n",
    "\n"
   ]
  },
  {
   "cell_type": "code",
   "execution_count": 1,
   "id": "a102738b-3ad4-4808-b51f-17790043075e",
   "metadata": {
    "tags": []
   },
   "outputs": [
    {
     "data": {
      "text/html": [
       "<dl>\n",
       "\t<dt>$cor</dt>\n",
       "\t\t<dd>0.953161994703015</dd>\n",
       "\t<dt>$`R^2`</dt>\n",
       "\t\t<dd>0.90851778814623</dd>\n",
       "</dl>\n"
      ],
      "text/latex": [
       "\\begin{description}\n",
       "\\item[\\$cor] 0.953161994703015\n",
       "\\item[\\$`R\\textasciicircum{}2`] 0.90851778814623\n",
       "\\end{description}\n"
      ],
      "text/markdown": [
       "$cor\n",
       ":   0.953161994703015\n",
       "$`R^2`\n",
       ":   0.90851778814623\n",
       "\n",
       "\n"
      ],
      "text/plain": [
       "$cor\n",
       "[1] 0.953162\n",
       "\n",
       "$`R^2`\n",
       "[1] 0.9085178\n"
      ]
     },
     "metadata": {},
     "output_type": "display_data"
    },
    {
     "data": {
      "image/png": "[encoded data removed]",
      "text/plain": [
       "plot without title"
      ]
     },
     "metadata": {
      "image/png": {
       "height": 420,
       "width": 420
      }
     },
     "output_type": "display_data"
    }
   ],
   "source": [
    "#Plotting y against x, you'll observe a positive linear relationship:\n",
    "x = runif(50,0,50)\n",
    "y = x + rnorm(50,0,5)\n",
    "plot(y~x)\n",
    "pearson_cor_coef = cor(x,y)\n",
    "list(\"cor\"=pearson_cor_coef,\"R^2\"=pearson_cor_coef^2)\n",
    "text(0, 50, \"r strong and positive,\n",
    "R^2 strong and positive\", pos = 4)"
   ]
  },
  {
   "cell_type": "code",
   "execution_count": 2,
   "id": "7323aad3-918e-458a-8348-fd6a072bc229",
   "metadata": {
    "tags": []
   },
   "outputs": [
    {
     "data": {
      "text/html": [
       "<dl>\n",
       "\t<dt>$cor</dt>\n",
       "\t\t<dd>-0.94478098420909</dd>\n",
       "\t<dt>$`R^2`</dt>\n",
       "\t\t<dd>0.892611108123096</dd>\n",
       "</dl>\n"
      ],
      "text/latex": [
       "\\begin{description}\n",
       "\\item[\\$cor] -0.94478098420909\n",
       "\\item[\\$`R\\textasciicircum{}2`] 0.892611108123096\n",
       "\\end{description}\n"
      ],
      "text/markdown": [
       "$cor\n",
       ":   -0.94478098420909\n",
       "$`R^2`\n",
       ":   0.892611108123096\n",
       "\n",
       "\n"
      ],
      "text/plain": [
       "$cor\n",
       "[1] -0.944781\n",
       "\n",
       "$`R^2`\n",
       "[1] 0.8926111\n"
      ]
     },
     "metadata": {},
     "output_type": "display_data"
    },
    {
     "data": {
      "image/png": "[encoded data removed]",
      "text/plain": [
       "plot without title"
      ]
     },
     "metadata": {
      "image/png": {
       "height": 420,
       "width": 420
      }
     },
     "output_type": "display_data"
    }
   ],
   "source": [
    "y = -x + rnorm(50,0,5)\n",
    "plot(y~x)\n",
    "pearson_cor_coef = cor(x,y)\n",
    "list(\"cor\"=pearson_cor_coef,\"R^2\"=pearson_cor_coef^2)\n",
    "text(30, 0, \"r strong and negative,\n",
    "R^2 strong and positive\", pos = 4)"
   ]
  },
  {
   "cell_type": "code",
   "execution_count": 3,
   "id": "0a87743d-e176-4c86-ae0e-a242d7e3e8bb",
   "metadata": {
    "tags": []
   },
   "outputs": [
    {
     "data": {
      "text/html": [
       "<dl>\n",
       "\t<dt>$cor</dt>\n",
       "\t\t<dd>0.0292108309325034</dd>\n",
       "\t<dt>$`R^2`</dt>\n",
       "\t\t<dd>0.0008532726437673</dd>\n",
       "</dl>\n"
      ],
      "text/latex": [
       "\\begin{description}\n",
       "\\item[\\$cor] 0.0292108309325034\n",
       "\\item[\\$`R\\textasciicircum{}2`] 0.0008532726437673\n",
       "\\end{description}\n"
      ],
      "text/markdown": [
       "$cor\n",
       ":   0.0292108309325034\n",
       "$`R^2`\n",
       ":   0.0008532726437673\n",
       "\n",
       "\n"
      ],
      "text/plain": [
       "$cor\n",
       "[1] 0.02921083\n",
       "\n",
       "$`R^2`\n",
       "[1] 0.0008532726\n"
      ]
     },
     "metadata": {},
     "output_type": "display_data"
    },
    {
     "data": {
      "image/png": "[encoded data removed]",
      "text/plain": [
       "plot without title"
      ]
     },
     "metadata": {
      "image/png": {
       "height": 420,
       "width": 420
      }
     },
     "output_type": "display_data"
    }
   ],
   "source": [
    "y = rnorm(50,0,5)\n",
    "plot(y~x)\n",
    "pearson_cor_coef = cor(x,y)\n",
    "list(\"cor\"=pearson_cor_coef,\"R^2\"=pearson_cor_coef^2)\n",
    "text(0, 10, \"r and R^2 ~ zero\", pos = 4)"
   ]
  },
  {
   "cell_type": "markdown",
   "id": "7bda822c-77b8-4eeb-a8d7-ba95f310e529",
   "metadata": {
    "tags": []
   },
   "source": [
    "The linear relationship identified between two variables describing the observed sample is valid also in the population? The significance of a correlation can be tested using `cor.test()`, which also provides a 95% confidence interval on the correlation. It use the t-test and in general it is tested whether the correlation coefficient deviates significantly different from zero. The null hypotesis is $\\rho=0$ (There is NO Linear relationship) which means that the non-linearity of the correlation is significant, the alternative hypotesis is $\\rho \\neq 0$ (There is Linear relationship) which means that the linearity of the correlation is significant.\n",
    "\n",
    "1. check if the null-hypotesis is retained or rejcted.\n",
    "\n",
    "Let's test the significance of the correlation (last case):\n",
    "\n"
   ]
  },
  {
   "cell_type": "code",
   "execution_count": 4,
   "id": "c34b4212-7dfa-48b4-8f87-8d0ed78c9c74",
   "metadata": {
    "tags": []
   },
   "outputs": [
    {
     "data": {
      "text/plain": [
       "\n",
       "\tPearson's product-moment correlation\n",
       "\n",
       "data:  x and y\n",
       "t = 0.20246, df = 48, p-value = 0.8404\n",
       "alternative hypothesis: true correlation is not equal to 0\n",
       "95 percent confidence interval:\n",
       " -0.2511792  0.3050780\n",
       "sample estimates:\n",
       "       cor \n",
       "0.02921083 \n"
      ]
     },
     "metadata": {},
     "output_type": "display_data"
    }
   ],
   "source": [
    "cor.test(x,y)"
   ]
  },
  {
   "cell_type": "markdown",
   "id": "6118c0b1-112c-40ac-ab22-0995724e26d1",
   "metadata": {},
   "source": [
    "The p-value is larger than the significance level of 0.05. In this case the null-hypotesis is retained therefore there is no correlation in the population based in the sample.  In this case, the value 0 is contained within the confidence interval, indicating that there is insufficient evidence to reject the null hypothesis ($\\rho=0$). Overall p-value is high!\n"
   ]
  },
  {
   "cell_type": "markdown",
   "id": "9ad4a278-f24c-4a40-b1ef-f1adb91789ac",
   "metadata": {},
   "source": [
    "<div class=\"alert alert-block alert-warning\">\n",
    "<b>Exercize:</b> Perform cor.test also for the previous cases (r \"strong and positive..)\n",
    "</div>"
   ]
  },
  {
   "cell_type": "code",
   "execution_count": null,
   "id": "d7bf18fe-5a52-4e22-baf8-6d55d6adb1b2",
   "metadata": {},
   "outputs": [],
   "source": []
  },
  {
   "cell_type": "markdown",
   "id": "afacdb83-6cb0-40f7-b040-7c42635834f0",
   "metadata": {
    "tags": []
   },
   "source": [
    "<div class=\"alert alert-block alert-warning\">\n",
    "<b>Exercize:</b> Perform linear correlation analysis on trees dataset for the tree variables (data=trees).\n",
    "</div>"
   ]
  },
  {
   "cell_type": "code",
   "execution_count": 5,
   "id": "fe39d96a-afcd-4659-916d-5e2dcda14ec4",
   "metadata": {
    "tags": []
   },
   "outputs": [
    {
     "data": {
      "text/html": [
       "<table class=\"dataframe\">\n",
       "<caption>A data.frame: 31 × 3</caption>\n",
       "<thead>\n",
       "\t<tr><th scope=col>Girth</th><th scope=col>Height</th><th scope=col>Volume</th></tr>\n",
       "\t<tr><th scope=col>&lt;dbl&gt;</th><th scope=col>&lt;dbl&gt;</th><th scope=col>&lt;dbl&gt;</th></tr>\n",
       "</thead>\n",
       "<tbody>\n",
       "\t<tr><td> 8.3</td><td>70</td><td>10.3</td></tr>\n",
       "\t<tr><td> 8.6</td><td>65</td><td>10.3</td></tr>\n",
       "\t<tr><td> 8.8</td><td>63</td><td>10.2</td></tr>\n",
       "\t<tr><td>10.5</td><td>72</td><td>16.4</td></tr>\n",
       "\t<tr><td>10.7</td><td>81</td><td>18.8</td></tr>\n",
       "\t<tr><td>10.8</td><td>83</td><td>19.7</td></tr>\n",
       "\t<tr><td>11.0</td><td>66</td><td>15.6</td></tr>\n",
       "\t<tr><td>11.0</td><td>75</td><td>18.2</td></tr>\n",
       "\t<tr><td>11.1</td><td>80</td><td>22.6</td></tr>\n",
       "\t<tr><td>11.2</td><td>75</td><td>19.9</td></tr>\n",
       "\t<tr><td>11.3</td><td>79</td><td>24.2</td></tr>\n",
       "\t<tr><td>11.4</td><td>76</td><td>21.0</td></tr>\n",
       "\t<tr><td>11.4</td><td>76</td><td>21.4</td></tr>\n",
       "\t<tr><td>11.7</td><td>69</td><td>21.3</td></tr>\n",
       "\t<tr><td>12.0</td><td>75</td><td>19.1</td></tr>\n",
       "\t<tr><td>12.9</td><td>74</td><td>22.2</td></tr>\n",
       "\t<tr><td>12.9</td><td>85</td><td>33.8</td></tr>\n",
       "\t<tr><td>13.3</td><td>86</td><td>27.4</td></tr>\n",
       "\t<tr><td>13.7</td><td>71</td><td>25.7</td></tr>\n",
       "\t<tr><td>13.8</td><td>64</td><td>24.9</td></tr>\n",
       "\t<tr><td>14.0</td><td>78</td><td>34.5</td></tr>\n",
       "\t<tr><td>14.2</td><td>80</td><td>31.7</td></tr>\n",
       "\t<tr><td>14.5</td><td>74</td><td>36.3</td></tr>\n",
       "\t<tr><td>16.0</td><td>72</td><td>38.3</td></tr>\n",
       "\t<tr><td>16.3</td><td>77</td><td>42.6</td></tr>\n",
       "\t<tr><td>17.3</td><td>81</td><td>55.4</td></tr>\n",
       "\t<tr><td>17.5</td><td>82</td><td>55.7</td></tr>\n",
       "\t<tr><td>17.9</td><td>80</td><td>58.3</td></tr>\n",
       "\t<tr><td>18.0</td><td>80</td><td>51.5</td></tr>\n",
       "\t<tr><td>18.0</td><td>80</td><td>51.0</td></tr>\n",
       "\t<tr><td>20.6</td><td>87</td><td>77.0</td></tr>\n",
       "</tbody>\n",
       "</table>\n"
      ],
      "text/latex": [
       "A data.frame: 31 × 3\n",
       "\\begin{tabular}{lll}\n",
       " Girth & Height & Volume\\\\\n",
       " <dbl> & <dbl> & <dbl>\\\\\n",
       "\\hline\n",
       "\t  8.3 & 70 & 10.3\\\\\n",
       "\t  8.6 & 65 & 10.3\\\\\n",
       "\t  8.8 & 63 & 10.2\\\\\n",
       "\t 10.5 & 72 & 16.4\\\\\n",
       "\t 10.7 & 81 & 18.8\\\\\n",
       "\t 10.8 & 83 & 19.7\\\\\n",
       "\t 11.0 & 66 & 15.6\\\\\n",
       "\t 11.0 & 75 & 18.2\\\\\n",
       "\t 11.1 & 80 & 22.6\\\\\n",
       "\t 11.2 & 75 & 19.9\\\\\n",
       "\t 11.3 & 79 & 24.2\\\\\n",
       "\t 11.4 & 76 & 21.0\\\\\n",
       "\t 11.4 & 76 & 21.4\\\\\n",
       "\t 11.7 & 69 & 21.3\\\\\n",
       "\t 12.0 & 75 & 19.1\\\\\n",
       "\t 12.9 & 74 & 22.2\\\\\n",
       "\t 12.9 & 85 & 33.8\\\\\n",
       "\t 13.3 & 86 & 27.4\\\\\n",
       "\t 13.7 & 71 & 25.7\\\\\n",
       "\t 13.8 & 64 & 24.9\\\\\n",
       "\t 14.0 & 78 & 34.5\\\\\n",
       "\t 14.2 & 80 & 31.7\\\\\n",
       "\t 14.5 & 74 & 36.3\\\\\n",
       "\t 16.0 & 72 & 38.3\\\\\n",
       "\t 16.3 & 77 & 42.6\\\\\n",
       "\t 17.3 & 81 & 55.4\\\\\n",
       "\t 17.5 & 82 & 55.7\\\\\n",
       "\t 17.9 & 80 & 58.3\\\\\n",
       "\t 18.0 & 80 & 51.5\\\\\n",
       "\t 18.0 & 80 & 51.0\\\\\n",
       "\t 20.6 & 87 & 77.0\\\\\n",
       "\\end{tabular}\n"
      ],
      "text/markdown": [
       "\n",
       "A data.frame: 31 × 3\n",
       "\n",
       "| Girth &lt;dbl&gt; | Height &lt;dbl&gt; | Volume &lt;dbl&gt; |\n",
       "|---|---|---|\n",
       "|  8.3 | 70 | 10.3 |\n",
       "|  8.6 | 65 | 10.3 |\n",
       "|  8.8 | 63 | 10.2 |\n",
       "| 10.5 | 72 | 16.4 |\n",
       "| 10.7 | 81 | 18.8 |\n",
       "| 10.8 | 83 | 19.7 |\n",
       "| 11.0 | 66 | 15.6 |\n",
       "| 11.0 | 75 | 18.2 |\n",
       "| 11.1 | 80 | 22.6 |\n",
       "| 11.2 | 75 | 19.9 |\n",
       "| 11.3 | 79 | 24.2 |\n",
       "| 11.4 | 76 | 21.0 |\n",
       "| 11.4 | 76 | 21.4 |\n",
       "| 11.7 | 69 | 21.3 |\n",
       "| 12.0 | 75 | 19.1 |\n",
       "| 12.9 | 74 | 22.2 |\n",
       "| 12.9 | 85 | 33.8 |\n",
       "| 13.3 | 86 | 27.4 |\n",
       "| 13.7 | 71 | 25.7 |\n",
       "| 13.8 | 64 | 24.9 |\n",
       "| 14.0 | 78 | 34.5 |\n",
       "| 14.2 | 80 | 31.7 |\n",
       "| 14.5 | 74 | 36.3 |\n",
       "| 16.0 | 72 | 38.3 |\n",
       "| 16.3 | 77 | 42.6 |\n",
       "| 17.3 | 81 | 55.4 |\n",
       "| 17.5 | 82 | 55.7 |\n",
       "| 17.9 | 80 | 58.3 |\n",
       "| 18.0 | 80 | 51.5 |\n",
       "| 18.0 | 80 | 51.0 |\n",
       "| 20.6 | 87 | 77.0 |\n",
       "\n"
      ],
      "text/plain": [
       "   Girth Height Volume\n",
       "1   8.3  70     10.3  \n",
       "2   8.6  65     10.3  \n",
       "3   8.8  63     10.2  \n",
       "4  10.5  72     16.4  \n",
       "5  10.7  81     18.8  \n",
       "6  10.8  83     19.7  \n",
       "7  11.0  66     15.6  \n",
       "8  11.0  75     18.2  \n",
       "9  11.1  80     22.6  \n",
       "10 11.2  75     19.9  \n",
       "11 11.3  79     24.2  \n",
       "12 11.4  76     21.0  \n",
       "13 11.4  76     21.4  \n",
       "14 11.7  69     21.3  \n",
       "15 12.0  75     19.1  \n",
       "16 12.9  74     22.2  \n",
       "17 12.9  85     33.8  \n",
       "18 13.3  86     27.4  \n",
       "19 13.7  71     25.7  \n",
       "20 13.8  64     24.9  \n",
       "21 14.0  78     34.5  \n",
       "22 14.2  80     31.7  \n",
       "23 14.5  74     36.3  \n",
       "24 16.0  72     38.3  \n",
       "25 16.3  77     42.6  \n",
       "26 17.3  81     55.4  \n",
       "27 17.5  82     55.7  \n",
       "28 17.9  80     58.3  \n",
       "29 18.0  80     51.5  \n",
       "30 18.0  80     51.0  \n",
       "31 20.6  87     77.0  "
      ]
     },
     "metadata": {},
     "output_type": "display_data"
    },
    {
     "data": {
      "text/html": [
       "<dl>\n",
       "\t<dt>$cor</dt>\n",
       "\t\t<dd>0.519280071949937</dd>\n",
       "\t<dt>$`R^2`</dt>\n",
       "\t\t<dd>0.269651793124332</dd>\n",
       "</dl>\n"
      ],
      "text/latex": [
       "\\begin{description}\n",
       "\\item[\\$cor] 0.519280071949937\n",
       "\\item[\\$`R\\textasciicircum{}2`] 0.269651793124332\n",
       "\\end{description}\n"
      ],
      "text/markdown": [
       "$cor\n",
       ":   0.519280071949937\n",
       "$`R^2`\n",
       ":   0.269651793124332\n",
       "\n",
       "\n"
      ],
      "text/plain": [
       "$cor\n",
       "[1] 0.5192801\n",
       "\n",
       "$`R^2`\n",
       "[1] 0.2696518\n"
      ]
     },
     "metadata": {},
     "output_type": "display_data"
    },
    {
     "data": {
      "image/png": "[encoded data removed]",
      "text/plain": [
       "plot without title"
      ]
     },
     "metadata": {
      "image/png": {
       "height": 420,
       "width": 420
      }
     },
     "output_type": "display_data"
    },
    {
     "data": {
      "text/html": [
       "<dl>\n",
       "\t<dt>$cor</dt>\n",
       "\t\t<dd>0.598249651991782</dd>\n",
       "\t<dt>$`R^2`</dt>\n",
       "\t\t<dd>0.357902646108289</dd>\n",
       "</dl>\n"
      ],
      "text/latex": [
       "\\begin{description}\n",
       "\\item[\\$cor] 0.598249651991782\n",
       "\\item[\\$`R\\textasciicircum{}2`] 0.357902646108289\n",
       "\\end{description}\n"
      ],
      "text/markdown": [
       "$cor\n",
       ":   0.598249651991782\n",
       "$`R^2`\n",
       ":   0.357902646108289\n",
       "\n",
       "\n"
      ],
      "text/plain": [
       "$cor\n",
       "[1] 0.5982497\n",
       "\n",
       "$`R^2`\n",
       "[1] 0.3579026\n"
      ]
     },
     "metadata": {},
     "output_type": "display_data"
    },
    {
     "data": {
      "image/png": "[encoded data removed]",
      "text/plain": [
       "plot without title"
      ]
     },
     "metadata": {
      "image/png": {
       "height": 420,
       "width": 420
      }
     },
     "output_type": "display_data"
    },
    {
     "data": {
      "text/html": [
       "<dl>\n",
       "\t<dt>$cor</dt>\n",
       "\t\t<dd>0.967119368255631</dd>\n",
       "\t<dt>$`R^2`</dt>\n",
       "\t\t<dd>0.93531987245517</dd>\n",
       "</dl>\n"
      ],
      "text/latex": [
       "\\begin{description}\n",
       "\\item[\\$cor] 0.967119368255631\n",
       "\\item[\\$`R\\textasciicircum{}2`] 0.93531987245517\n",
       "\\end{description}\n"
      ],
      "text/markdown": [
       "$cor\n",
       ":   0.967119368255631\n",
       "$`R^2`\n",
       ":   0.93531987245517\n",
       "\n",
       "\n"
      ],
      "text/plain": [
       "$cor\n",
       "[1] 0.9671194\n",
       "\n",
       "$`R^2`\n",
       "[1] 0.9353199\n"
      ]
     },
     "metadata": {},
     "output_type": "display_data"
    },
    {
     "data": {
      "image/png": "[encoded data removed]",
      "text/plain": [
       "plot without title"
      ]
     },
     "metadata": {
      "image/png": {
       "height": 420,
       "width": 420
      }
     },
     "output_type": "display_data"
    },
    {
     "data": {
      "text/html": [
       "<dl>\n",
       "\t<dt>$cor</dt>\n",
       "\t\t<dd>0.598249651991782</dd>\n",
       "\t<dt>$`R^2`</dt>\n",
       "\t\t<dd>0.357902646108289</dd>\n",
       "</dl>\n"
      ],
      "text/latex": [
       "\\begin{description}\n",
       "\\item[\\$cor] 0.598249651991782\n",
       "\\item[\\$`R\\textasciicircum{}2`] 0.357902646108289\n",
       "\\end{description}\n"
      ],
      "text/markdown": [
       "$cor\n",
       ":   0.598249651991782\n",
       "$`R^2`\n",
       ":   0.357902646108289\n",
       "\n",
       "\n"
      ],
      "text/plain": [
       "$cor\n",
       "[1] 0.5982497\n",
       "\n",
       "$`R^2`\n",
       "[1] 0.3579026\n"
      ]
     },
     "metadata": {},
     "output_type": "display_data"
    },
    {
     "data": {
      "image/png": "[encoded data removed]",
      "text/plain": [
       "plot without title"
      ]
     },
     "metadata": {
      "image/png": {
       "height": 420,
       "width": 420
      }
     },
     "output_type": "display_data"
    },
    {
     "data": {
      "text/html": [
       "<dl>\n",
       "\t<dt>$cor</dt>\n",
       "\t\t<dd>0.519280071949937</dd>\n",
       "\t<dt>$`R^2`</dt>\n",
       "\t\t<dd>0.269651793124332</dd>\n",
       "</dl>\n"
      ],
      "text/latex": [
       "\\begin{description}\n",
       "\\item[\\$cor] 0.519280071949937\n",
       "\\item[\\$`R\\textasciicircum{}2`] 0.269651793124332\n",
       "\\end{description}\n"
      ],
      "text/markdown": [
       "$cor\n",
       ":   0.519280071949937\n",
       "$`R^2`\n",
       ":   0.269651793124332\n",
       "\n",
       "\n"
      ],
      "text/plain": [
       "$cor\n",
       "[1] 0.5192801\n",
       "\n",
       "$`R^2`\n",
       "[1] 0.2696518\n"
      ]
     },
     "metadata": {},
     "output_type": "display_data"
    },
    {
     "data": {
      "image/png": "[encoded data removed]",
      "text/plain": [
       "plot without title"
      ]
     },
     "metadata": {
      "image/png": {
       "height": 420,
       "width": 420
      }
     },
     "output_type": "display_data"
    },
    {
     "data": {
      "text/html": [
       "<dl>\n",
       "\t<dt>$cor</dt>\n",
       "\t\t<dd>0.967119368255631</dd>\n",
       "\t<dt>$`R^2`</dt>\n",
       "\t\t<dd>0.93531987245517</dd>\n",
       "</dl>\n"
      ],
      "text/latex": [
       "\\begin{description}\n",
       "\\item[\\$cor] 0.967119368255631\n",
       "\\item[\\$`R\\textasciicircum{}2`] 0.93531987245517\n",
       "\\end{description}\n"
      ],
      "text/markdown": [
       "$cor\n",
       ":   0.967119368255631\n",
       "$`R^2`\n",
       ":   0.93531987245517\n",
       "\n",
       "\n"
      ],
      "text/plain": [
       "$cor\n",
       "[1] 0.9671194\n",
       "\n",
       "$`R^2`\n",
       "[1] 0.9353199\n"
      ]
     },
     "metadata": {},
     "output_type": "display_data"
    },
    {
     "data": {
      "image/png": "[encoded data removed]",
      "text/plain": [
       "plot without title"
      ]
     },
     "metadata": {
      "image/png": {
       "height": 420,
       "width": 420
      }
     },
     "output_type": "display_data"
    }
   ],
   "source": [
    "data=trees\n",
    "trees\n",
    "\n",
    "#case 1 Y=Height and X=Girth\n",
    "#case 2 Y=Height and X=Volume\n",
    "#case 3 Y=Volume and X=Girth\n",
    "#case 4 Y=Volume and X=Height\n",
    "#case 5 Y=Girth and X=Height\n",
    "#case 6 Y=Girth and X=Volume\n",
    "\n",
    "x=trees$Girth\n",
    "y=trees$Height\n",
    "plot(y~x)\n",
    "pearson_cor_coef = cor(x,y)\n",
    "list(\"cor\"=pearson_cor_coef,\"R^2\"=pearson_cor_coef^2)\n",
    "\n",
    "x=trees$Volume\n",
    "y=trees$Height\n",
    "plot(y~x)\n",
    "pearson_cor_coef = cor(x,y)\n",
    "list(\"cor\"=pearson_cor_coef,\"R^2\"=pearson_cor_coef^2)\n",
    "\n",
    "x=trees$Girth\n",
    "y=trees$Volume\n",
    "plot(y~x)\n",
    "pearson_cor_coef = cor(x,y)\n",
    "list(\"cor\"=pearson_cor_coef,\"R^2\"=pearson_cor_coef^2)\n",
    "\n",
    "x=trees$Height\n",
    "y=trees$Volume\n",
    "plot(y~x)\n",
    "pearson_cor_coef = cor(x,y)\n",
    "list(\"cor\"=pearson_cor_coef,\"R^2\"=pearson_cor_coef^2)\n",
    "\n",
    "x=trees$Height\n",
    "y=trees$Girth\n",
    "plot(y~x)\n",
    "pearson_cor_coef = cor(x,y)\n",
    "list(\"cor\"=pearson_cor_coef,\"R^2\"=pearson_cor_coef^2)\n",
    "\n",
    "x=trees$Volume\n",
    "y=trees$Girth\n",
    "plot(y~x)\n",
    "pearson_cor_coef = cor(x,y)\n",
    "list(\"cor\"=pearson_cor_coef,\"R^2\"=pearson_cor_coef^2)"
   ]
  },
  {
   "cell_type": "markdown",
   "id": "ebbad85e-2dec-42ac-b0d6-7679c198f4b4",
   "metadata": {},
   "source": [
    "Final Remarks: \n",
    " \n",
    "__Assumption of linear correlation:__ pearson correlation assume that the data samples are taken by a population normally distributed. If not we need to use a \"non-parametric test\" for correlation.\n"
   ]
  },
  {
   "cell_type": "markdown",
   "id": "c0038f6e-a798-48b8-b455-b353ca6f8a83",
   "metadata": {
    "tags": []
   },
   "source": [
    "## 2. Linear Regression\n",
    "\n",
    "Dependent variable $Y$ has a __functional relation__ with the independent variable $X$ (one way relationship).\n",
    "$Y$ dependent by $X$ does not mean that we demonstrate a causality relationship ( $Y$ variation caused by $X$ variation) but only that there is some relationship.\n",
    "The main use of regression analysis is to __predict__ values of the dependent variable. \n",
    "Pratically, a linear regression analysis provide an equation for a line that describe the fucntional relationship between two variables and tests whether the statistics that describe this line are significantly different from zero.\n",
    "\n",
    "For a straight line:\n",
    "\n",
    "\n",
    "$$ Y_i=a+bX_i $$\n",
    "\n",
    "equation with $a$ -> Interception with $X=0$ and $b$ -> line slope\n",
    "\n",
    "Usually this straight line is a *\"best fit\" line* through a set of data points. "
   ]
  },
  {
   "cell_type": "markdown",
   "id": "96b18f34-6cd3-4f69-be7c-57eabcd9bb74",
   "metadata": {
    "tags": []
   },
   "source": [
    "### 2.1 Perform linear regression and test the null-hypotesys"
   ]
  },
  {
   "cell_type": "code",
   "execution_count": 6,
   "id": "5cbbc396-8232-4d2b-9742-4e9c402874a0",
   "metadata": {
    "tags": []
   },
   "outputs": [
    {
     "data": {
      "image/png": "[encoded data removed]",
      "text/plain": [
       "plot without title"
      ]
     },
     "metadata": {
      "image/png": {
       "height": 420,
       "width": 420
      }
     },
     "output_type": "display_data"
    }
   ],
   "source": [
    "plot(Volume~Girth,data=trees)\n",
    "m1 = lm(Volume~Girth,data=trees) #fitting linear model function\n",
    "abline(m1) # add straiht line to a plot"
   ]
  },
  {
   "cell_type": "markdown",
   "id": "ca4f6126-d8a7-45a4-87b9-1f88b97ce179",
   "metadata": {},
   "source": [
    "Once obtained the regression line, we should ask ourself if it is statistically significant (zero relation or null-hypotesis)\n",
    "We need to test the $a$ and $b$ (interception and slope)\n",
    "\n",
    "- Slope testing $b$: one method is similar to the One-Way ANOVA. We don't test the sample extraction displacement form the mean but we test the sample tilting extraction from the not-tilted condition.\n",
    "\n",
    "$$F_{ratio} = \\frac{MS_{regression}}{ MS_{residual}}$$\n",
    "incrasing $F$ the probability p-value decrease (0.05)\n",
    "\n",
    "- Ineterception testing $a$:\n",
    "we  see the displacement of an extracted with the population.\n",
    "\n",
    "It is all implemented in the __linear model function__ `lm()`"
   ]
  },
  {
   "cell_type": "markdown",
   "id": "66799309-5c35-4673-b42d-19dcec83d72b",
   "metadata": {
    "tags": []
   },
   "source": [
    "1. The significance of a correlation can be tested using `cor.test()`, which also provides a 95% confidence interval on the correlation:"
   ]
  },
  {
   "cell_type": "code",
   "execution_count": 7,
   "id": "442b9221-58d5-439c-bb69-5f3743c7fe61",
   "metadata": {
    "tags": []
   },
   "outputs": [
    {
     "data": {
      "text/plain": [
       "\n",
       "\tPearson's product-moment correlation\n",
       "\n",
       "data:  trees$Volume and trees$Girth\n",
       "t = 20.478, df = 29, p-value < 2.2e-16\n",
       "alternative hypothesis: true correlation is not equal to 0\n",
       "95 percent confidence interval:\n",
       " 0.9322519 0.9841887\n",
       "sample estimates:\n",
       "      cor \n",
       "0.9671194 \n"
      ]
     },
     "metadata": {},
     "output_type": "display_data"
    }
   ],
   "source": [
    "cor.test(trees$Volume,trees$Girth) #null-test hypotesis"
   ]
  },
  {
   "cell_type": "markdown",
   "id": "90b83f6b-8e3d-4fbe-b201-f7b76d02cc13",
   "metadata": {},
   "source": [
    "$r$ = 0.967 high enough to indicate that there is a reasonably strong correlation between $X$ (Girth) and $Y$ (Volume) in this range\n",
    "\n",
    "Again we should ask if the linear relationship identified between two variables describing the observed sample is valid also in the population? The correlation coefficient deviates significantly different from zero? The null hypotesis is $\\rho=0$ (There is NO Linear relationship) which means that the non-linearity of the correlation is significant, the alternative hypotesis is $\\rho \\neq 0$ (There is Linear relationship) which means that the linearity of the correlation is significant.\n",
    "\n",
    "1. check if the null-hypotesis is retained or rejcted.\n",
    "\n",
    "p-values is lower than significance level of 0.05 therefore the null-hypotesis on correlation $\\rho=0$  is rejectd. \n",
    "\n",
    "2. chose the alternative hypotesis \n",
    "Rejecting the null-hypotesis means that there could be correlation significance. Overall p-value is low enough to suggest that the model has significant utility."
   ]
  },
  {
   "cell_type": "markdown",
   "id": "8cd71f3b-f223-4893-8134-e885f2779ea1",
   "metadata": {},
   "source": [
    "2. The significance of the slope and the interception of the regression line can be tested using `lm()`.\n",
    "\n",
    "Result table from a regression analysis is provided by the *summary(m1)*:\n",
    "\n",
    "|                                                        | Estimated Value | Std.Error | t-value              | p-value              |\n",
    "|--------------------------------------------------------|-----------------|-----------|----------------------|----------------------|\n",
    "| (Intercept) is the $a$                                 |                 |           | comparing $a$ to $0$ | comparing $a$ to $0$ |\n",
    "| Girth, the name of the Independent Variable is the $b$ |                 |           | comparing $b$ to $0$ | comparing $a$ to $0$ |"
   ]
  },
  {
   "cell_type": "code",
   "execution_count": 8,
   "id": "39c817e2-dc2d-43ad-bde6-c41fa6a9bcee",
   "metadata": {
    "tags": []
   },
   "outputs": [
    {
     "data": {
      "text/plain": [
       "\n",
       "Call:\n",
       "lm(formula = Volume ~ Girth, data = trees)\n",
       "\n",
       "Residuals:\n",
       "   Min     1Q Median     3Q    Max \n",
       "-8.065 -3.107  0.152  3.495  9.587 \n",
       "\n",
       "Coefficients:\n",
       "            Estimate Std. Error t value Pr(>|t|)    \n",
       "(Intercept) -36.9435     3.3651  -10.98 7.62e-12 ***\n",
       "Girth         5.0659     0.2474   20.48  < 2e-16 ***\n",
       "---\n",
       "Signif. codes:  0 '***' 0.001 '**' 0.01 '*' 0.05 '.' 0.1 ' ' 1\n",
       "\n",
       "Residual standard error: 4.252 on 29 degrees of freedom\n",
       "Multiple R-squared:  0.9353,\tAdjusted R-squared:  0.9331 \n",
       "F-statistic: 419.4 on 1 and 29 DF,  p-value: < 2.2e-16\n"
      ]
     },
     "metadata": {},
     "output_type": "display_data"
    }
   ],
   "source": [
    "summary(m1)"
   ]
  },
  {
   "cell_type": "markdown",
   "id": "9c83d6e1-e1be-45bc-96d5-84930c0a3c75",
   "metadata": {},
   "source": [
    "A slope of 5.06 means that, for an increase of one unit in the Girth (that is, an increase of 1 cm), the Volume of the trees inreases, on average, by 5.06 units."
   ]
  },
  {
   "cell_type": "markdown",
   "id": "bd1be8fa-14be-45aa-88db-12daa4e10db0",
   "metadata": {},
   "source": [
    "overall p-value is low enough to suggest that the model has significant utility, and both terms (the intercept $b$ and the coefficient of Girth $a$) are significantly different from zero. The $R^2$ value of 0.9353 is high enough to indicate that there is a reasonably strong correlation between $X$ (Girth) and $Y$ (Volume) in this range. "
   ]
  },
  {
   "cell_type": "code",
   "execution_count": 9,
   "id": "22dbc274-4524-49de-84ba-64a1a66a18df",
   "metadata": {
    "tags": []
   },
   "outputs": [
    {
     "data": {
      "image/png": "[encoded data removed]",
      "text/plain": [
       "Plot with title \"Histogram of residuals(m1)\""
      ]
     },
     "metadata": {
      "image/png": {
       "height": 420,
       "width": 420
      }
     },
     "output_type": "display_data"
    }
   ],
   "source": [
    "#Model residuals can be readily accessed using the `residuals()` function:\n",
    "hist(residuals(m1),breaks=10,col=\"light grey\")"
   ]
  },
  {
   "cell_type": "markdown",
   "id": "d731353e-e063-44cc-9b33-bef6ea5afe67",
   "metadata": {
    "tags": []
   },
   "source": [
    "<div class=\"alert alert-block alert-danger\">\n",
    "<b>Be carefull!</b> Are we shure that linear regression is a good model for our data? in other words, are we respecting the assumptions?</div>\n",
    "\n"
   ]
  },
  {
   "cell_type": "markdown",
   "id": "9c551efb-d49b-4bd3-bee9-024e0f1138f0",
   "metadata": {},
   "source": [
    "### 2.2 Assessing the validity of linear model\n",
    "Diagnostic plots for the model can reveal whether or not modelling assumptions are reasonable."
   ]
  },
  {
   "cell_type": "code",
   "execution_count": 10,
   "id": "b50e691c-fcd9-4dfa-bf44-afb5fb663e85",
   "metadata": {
    "tags": []
   },
   "outputs": [
    {
     "data": {
      "image/png": "[encoded data removed]",
      "text/plain": [
       "Plot with title \"\""
      ]
     },
     "metadata": {
      "image/png": {
       "height": 420,
       "width": 420
      }
     },
     "output_type": "display_data"
    },
    {
     "data": {
      "image/png": "[encoded data removed]",
      "text/plain": [
       "Plot with title \"\""
      ]
     },
     "metadata": {
      "image/png": {
       "height": 420,
       "width": 420
      }
     },
     "output_type": "display_data"
    },
    {
     "data": {
      "image/png": "[encoded data removed]",
      "text/plain": [
       "Plot with title \"\""
      ]
     },
     "metadata": {
      "image/png": {
       "height": 420,
       "width": 420
      }
     },
     "output_type": "display_data"
    },
    {
     "data": {
      "image/png": "[encoded data removed]",
      "text/plain": [
       "Plot with title \"\""
      ]
     },
     "metadata": {
      "image/png": {
       "height": 420,
       "width": 420
      }
     },
     "output_type": "display_data"
    }
   ],
   "source": [
    "#plot the result m1 of the linear model:\n",
    "plot(m1)"
   ]
  },
  {
   "cell_type": "markdown",
   "id": "45a6dfc4-ae87-4a4e-aba2-7a43b19bcdfd",
   "metadata": {},
   "source": [
    "In this case, there is visual evidence to suggest that the assumptions are not satisfied - note in particular the trend observed in the plot of residuals vs fitted values. The `summary(m1)` show a misleading results, as we know that a linear model is inappropriate in this case. Indeed, the linear model summary does not check whether the underlying model assumptions are satisfied. By observing strong patterns in the diagnostic plots, we can see that the modelling assumptions are not satisified in this case."
   ]
  },
  {
   "cell_type": "markdown",
   "id": "9f7beb3d-0eed-4abd-84ae-b640cefca624",
   "metadata": {
    "tags": []
   },
   "source": [
    "<div class=\"alert alert-block alert-info\">\n",
    "<b>Tip:</b> Use psych library to show:\n",
    "\n",
    "    1. Correlation coefficient (r) - The strength of the relationship.\n",
    "    2. Histogram with kernel density estimation and rug plot.\n",
    "    3. Scatter plot with fitted line and ellipses to display the strength of the relationship.,  \n",
    "\n",
    "</div>"
   ]
  },
  {
   "cell_type": "code",
   "execution_count": 11,
   "id": "bb1aa0f4-624d-4322-8e0a-8dd9ece60293",
   "metadata": {
    "tags": []
   },
   "outputs": [
    {
     "data": {
      "image/png": "[encoded data removed]",
      "text/plain": [
       "plot without title"
      ]
     },
     "metadata": {
      "image/png": {
       "height": 420,
       "width": 420
      }
     },
     "output_type": "display_data"
    }
   ],
   "source": [
    "library(psych)\n",
    "\n",
    "pairs.panels(trees, scale=TRUE)"
   ]
  },
  {
   "cell_type": "markdown",
   "id": "f4ed27a4-74ce-45f0-b966-100d187b232b",
   "metadata": {},
   "source": [
    "<div class=\"alert alert-block alert-warning\">\n",
    "<b>Exercize:</b> Perform linear correlation and linear regression analysis on the following dataset and observe test results as well as the respect of the hypotesis.\n",
    "</div>"
   ]
  },
  {
   "cell_type": "code",
   "execution_count": 12,
   "id": "7ffe9d59-b0db-4284-933f-37ae6e04ce30",
   "metadata": {},
   "outputs": [],
   "source": [
    "x = seq(0,1.5*pi,0.2) #dependent variable\n",
    "y=sin(x) # Independent variable"
   ]
  }
 ],
 "metadata": {
  "kernelspec": {
   "display_name": "R",
   "language": "R",
   "name": "ir"
  },
  "language_info": {
   "codemirror_mode": "r",
   "file_extension": ".r",
   "mimetype": "text/x-r-source",
   "name": "R",
   "pygments_lexer": "r",
   "version": "4.1.3"
  }
 },
 "nbformat": 4,
 "nbformat_minor": 5
}
