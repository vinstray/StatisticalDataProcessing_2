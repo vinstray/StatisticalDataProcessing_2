{
 "cells": [
  {
   "cell_type": "markdown",
   "id": "c589f8e1-2430-45ea-bef9-e881fb96f5c0",
   "metadata": {},
   "source": [
    "# Multiple Linear Regression\n",
    "\n",
    "It is used to assess relationship between two variables while taking into account the effect of other variables. By taking into account the effect of other variables, we cancel out the effect of these other variables in order to isolate and measure the relationship between the two variables of interest. \n",
    "\n",
    "Is an extension of simple linear regression in case dependent variable $Y$ is related to more than one independent variable $X$.\n",
    "\n",
    "The regression equation become:\n",
    "\n",
    "$$Y=b\\beta_0 + b\\beta_1 x_1 + b\\beta_2 x_2 + ... + b\\beta_p x_p + \\epsilon$$\n",
    "\n",
    "where $E(\\epsilon)=0$ and $Var(\\epsilon)=\\sigma^2$ (normal distribution)\n",
    "\n",
    "\n",
    "Firstly we test the relation and significance of each individual variable and if there is no significance the variable can be removed.\n",
    "then we rerun the model fitting until only significant independent varaibles remain. (backward elimination)\n"
   ]
  },
  {
   "cell_type": "markdown",
   "id": "c0393c15-8edd-493a-8dd6-5ad8571452e8",
   "metadata": {},
   "source": [
    "Let's chose which relationship between dependent and independent variable we want to analyse an let's take into account also other factors that can affect this relationship.\n",
    "\n",
    "e.g. Analyse how the car's fuel consumption `mpg` is affected by the car weigth `wt` but also considering the number of cylinders, the transmission type `am` and the number of carburators `carb`."
   ]
  },
  {
   "cell_type": "code",
   "execution_count": 1,
   "id": "e973328c-5401-4cf5-9438-f2a1129f4218",
   "metadata": {
    "tags": []
   },
   "outputs": [
    {
     "data": {
      "text/html": [
       "<dl>\n",
       "\t<dt>$cor</dt>\n",
       "\t\t<dd>-0.867659376517228</dd>\n",
       "\t<dt>$`R^2`</dt>\n",
       "\t\t<dd>0.752832793658264</dd>\n",
       "</dl>\n"
      ],
      "text/latex": [
       "\\begin{description}\n",
       "\\item[\\$cor] -0.867659376517228\n",
       "\\item[\\$`R\\textasciicircum{}2`] 0.752832793658264\n",
       "\\end{description}\n"
      ],
      "text/markdown": [
       "$cor\n",
       ":   -0.867659376517228\n",
       "$`R^2`\n",
       ":   0.752832793658264\n",
       "\n",
       "\n"
      ],
      "text/plain": [
       "$cor\n",
       "[1] -0.8676594\n",
       "\n",
       "$`R^2`\n",
       "[1] 0.7528328\n"
      ]
     },
     "metadata": {},
     "output_type": "display_data"
    },
    {
     "data": {
      "image/png": "[encoded data removed]",
      "text/plain": [
       "plot without title"
      ]
     },
     "metadata": {
      "image/png": {
       "height": 420,
       "width": 420
      }
     },
     "output_type": "display_data"
    }
   ],
   "source": [
    "# lets plot firstly the  scatter plot between mpg and wt\n",
    "library(ggplot2)\n",
    "data= mtcars\n",
    "ggplot(data) +\n",
    "  aes(x = wt, y = mpg, colour = carb, size = cyl) +\n",
    "  geom_point() +\n",
    "  scale_color_gradient() +\n",
    "  labs(\n",
    "    y = \"Miles per gallon\",\n",
    "    x = \"Weight (1000 lbs)\",\n",
    "    color = \"Number of carburetors\",\n",
    "    size = \"Number of cylinders\"\n",
    "  ) +\n",
    "  theme_minimal()\n",
    "\n",
    "\n",
    "pearson_cor_coef = cor(data$wt,data$mpg)\n",
    "list(\"cor\"=pearson_cor_coef,\"R^2\"=pearson_cor_coef^2)\n",
    "\n"
   ]
  },
  {
   "cell_type": "markdown",
   "id": "a26116c5-5d56-408f-953f-c45fe999fbd7",
   "metadata": {
    "tags": []
   },
   "source": [
    "We can observe:\n",
    "- a strong and negative  relationship between miles per gallon and weight\n",
    "- a negative relationship between miles/gallon and number of cylinders\n",
    "- a negative relationship between miles/gallon and number of carburetors\n",
    "\n"
   ]
  },
  {
   "cell_type": "code",
   "execution_count": 2,
   "id": "62a8e85e-2361-4474-97b6-ee0112261549",
   "metadata": {
    "tags": []
   },
   "outputs": [
    {
     "data": {
      "text/plain": [
       "\n",
       "Call:\n",
       "lm(formula = mpg ~ wt, data = data)\n",
       "\n",
       "Residuals:\n",
       "    Min      1Q  Median      3Q     Max \n",
       "-4.5432 -2.3647 -0.1252  1.4096  6.8727 \n",
       "\n",
       "Coefficients:\n",
       "            Estimate Std. Error t value Pr(>|t|)    \n",
       "(Intercept)  37.2851     1.8776  19.858  < 2e-16 ***\n",
       "wt           -5.3445     0.5591  -9.559 1.29e-10 ***\n",
       "---\n",
       "Signif. codes:  0 '***' 0.001 '**' 0.01 '*' 0.05 '.' 0.1 ' ' 1\n",
       "\n",
       "Residual standard error: 3.046 on 30 degrees of freedom\n",
       "Multiple R-squared:  0.7528,\tAdjusted R-squared:  0.7446 \n",
       "F-statistic: 91.38 on 1 and 30 DF,  p-value: 1.294e-10\n"
      ]
     },
     "metadata": {},
     "output_type": "display_data"
    }
   ],
   "source": [
    "univ <-lm(formula=mpg ~ wt, data)\n",
    "summary(univ)"
   ]
  },
  {
   "cell_type": "markdown",
   "id": "aadae2a3-a2ef-43a3-b9ae-2b80052b5fa3",
   "metadata": {},
   "source": [
    "Therefore, we would like to evaluate the relation between the fuel consumption and the weight, but this time by adding `cyl`, `am` and `carb`"
   ]
  },
  {
   "cell_type": "code",
   "execution_count": 3,
   "id": "a8dbd58c-02a4-44ce-b80e-96448d76ef22",
   "metadata": {
    "tags": []
   },
   "outputs": [
    {
     "data": {
      "text/plain": [
       "\n",
       "Call:\n",
       "lm(formula = mpg ~ cyl + wt + am + carb, data = data)\n",
       "\n",
       "Residuals:\n",
       "    Min      1Q  Median      3Q     Max \n",
       "-4.5451 -1.2184 -0.3739  1.4699  5.3528 \n",
       "\n",
       "Coefficients:\n",
       "            Estimate Std. Error t value Pr(>|t|)    \n",
       "(Intercept)  36.8503     2.8694  12.843 5.17e-13 ***\n",
       "cyl          -1.1968     0.4368  -2.740   0.0108 *  \n",
       "wt           -2.4785     0.9364  -2.647   0.0134 *  \n",
       "am            1.7801     1.5091   1.180   0.2485    \n",
       "carb         -0.7480     0.3956  -1.891   0.0694 .  \n",
       "---\n",
       "Signif. codes:  0 '***' 0.001 '**' 0.01 '*' 0.05 '.' 0.1 ' ' 1\n",
       "\n",
       "Residual standard error: 2.5 on 27 degrees of freedom\n",
       "Multiple R-squared:  0.8502,\tAdjusted R-squared:  0.828 \n",
       "F-statistic:  38.3 on 4 and 27 DF,  p-value: 9.255e-11\n"
      ]
     },
     "metadata": {},
     "output_type": "display_data"
    }
   ],
   "source": [
    "# Let's fit to a linear regression model:\n",
    "data= mtcars\n",
    "univ <-lm(formula=mpg ~ cyl + wt + am + carb, data)\n",
    "summary(univ)\n"
   ]
  },
  {
   "cell_type": "markdown",
   "id": "8fa0e9da-493a-4c6b-b283-589e2f3e07b5",
   "metadata": {},
   "source": [
    "Observing the slope of wt we observe a weaker relationship this time with respect to the previous simple linear regression (-5.34 vs -2.37). In this results, the effect of `wt` on `mpg` was adjusted according to the effect of `cyl`, `am` and `carb`.\n",
    "\n",
    "\n",
    "\n",
    "In this table of parameter estimates, we see the number of cylinders `cyl` and weight `wt` provide a great amount of explanatory value in describing `mpg` values. The number of carburetors `carb` has limited value, and the transmission type (`am`: automatic or manual) makes a minimal contribution. The estimated coefficients for cylinders and weight are negative because, intuitively, larger engines and heavier cars will get fewer miles per gallon.\n",
    "\n",
    "\n",
    "The regression model with fitted parameter values is:\n",
    "\n",
    "$$mpg = 36.85 − 1.20 cyl − 2.48 wt + 1.78 am − 0.75 carb + error$$ \n",
    "\n",
    "\n",
    "we can use this regression model to give a reasonable estimate of avarage miles per gallon of a car from a set of parameters between the ranges -> __Prediction__"
   ]
  },
  {
   "cell_type": "markdown",
   "id": "6e3307d6-328f-4eca-833f-ded37e5331cc",
   "metadata": {},
   "source": [
    "### Assessing the validity of linear model\n",
    "Diagnostic plots for the model can reveal whether or not modelling assumptions are reasonable.\n",
    "\n",
    "As for simple linear regression, multiple linear regression requires some conditions of application for the model to be usable and the results to be interpretable. These are:\n",
    "\n",
    "1. Linearity of the relationships between the dependent and independent variables\n",
    "2. Independence of the observations\n",
    "3. Normality of the residuals\n",
    "4. Homoscedasticity of the residuals\n",
    "5. No influential points (outliers)\n",
    "6. No multicollinearity"
   ]
  },
  {
   "cell_type": "code",
   "execution_count": 4,
   "id": "b4e2e8e7-0e72-48b6-9c14-fceb6b674c71",
   "metadata": {
    "tags": []
   },
   "outputs": [
    {
     "data": {
      "image/png": "[encoded data removed]",
      "text/plain": [
       "Plot with title \"\""
      ]
     },
     "metadata": {
      "image/png": {
       "height": 420,
       "width": 420
      }
     },
     "output_type": "display_data"
    },
    {
     "data": {
      "image/png": "[encoded data removed]",
      "text/plain": [
       "Plot with title \"\""
      ]
     },
     "metadata": {
      "image/png": {
       "height": 420,
       "width": 420
      }
     },
     "output_type": "display_data"
    },
    {
     "data": {
      "image/png": "[encoded data removed]",
      "text/plain": [
       "Plot with title \"\""
      ]
     },
     "metadata": {
      "image/png": {
       "height": 420,
       "width": 420
      }
     },
     "output_type": "display_data"
    },
    {
     "data": {
      "image/png": "[encoded data removed]",
      "text/plain": [
       "Plot with title \"\""
      ]
     },
     "metadata": {
      "image/png": {
       "height": 420,
       "width": 420
      }
     },
     "output_type": "display_data"
    },
    {
     "data": {
      "image/png": "[encoded data removed]",
      "text/plain": [
       "Plot with title \"\""
      ]
     },
     "metadata": {
      "image/png": {
       "height": 420,
       "width": 420
      }
     },
     "output_type": "display_data"
    },
    {
     "data": {
      "image/png": "[encoded data removed]",
      "text/plain": [
       "Plot with title \"\""
      ]
     },
     "metadata": {
      "image/png": {
       "height": 420,
       "width": 420
      }
     },
     "output_type": "display_data"
    }
   ],
   "source": [
    "plot(univ, which=1:6)"
   ]
  },
  {
   "cell_type": "markdown",
   "id": "f47db008-f78a-43ef-9483-274e384275dc",
   "metadata": {
    "tags": []
   },
   "source": [
    "1. linearity (Residulas vs fitted) is not perfect—a variable could be removed/added or a transformation could be applied to improve linearity\n",
    "2.\n",
    "3. Normality of the residuals (QQ plots) is also not perfect but it still seems acceptable\n",
    "4. Homogeneity of variance (Scale-location) is almost respected\n",
    "5. There is no influential points (Resiuals vs Leverage)\n",
    "6. ??\n",
    "\n",
    "\n",
    "When the conditions of application are met, the model is valid.\n"
   ]
  },
  {
   "cell_type": "markdown",
   "id": "9ddeeb75-10a1-44bf-8ce7-fc622959c81c",
   "metadata": {},
   "source": [
    "### Predictions\n",
    "\n",
    "Suppose we want to predict the miles/gallon for a car with a manual transmission, weighting 3000 lbs, has 8 cylinders, 4 carburetors and which drives a quarter of a mile (qsec) in 18 seconds:"
   ]
  },
  {
   "cell_type": "code",
   "execution_count": 5,
   "id": "54b14ecf-6aa3-4948-84c5-2346d21d0b50",
   "metadata": {
    "tags": []
   },
   "outputs": [
    {
     "data": {
      "text/html": [
       "<table class=\"dataframe\">\n",
       "<caption>A matrix: 1 × 3 of type dbl</caption>\n",
       "<thead>\n",
       "\t<tr><th></th><th scope=col>fit</th><th scope=col>lwr</th><th scope=col>upr</th></tr>\n",
       "</thead>\n",
       "<tbody>\n",
       "\t<tr><th scope=row>1</th><td>18.62856</td><td>16.22023</td><td>21.03689</td></tr>\n",
       "</tbody>\n",
       "</table>\n"
      ],
      "text/latex": [
       "A matrix: 1 × 3 of type dbl\n",
       "\\begin{tabular}{r|lll}\n",
       "  & fit & lwr & upr\\\\\n",
       "\\hline\n",
       "\t1 & 18.62856 & 16.22023 & 21.03689\\\\\n",
       "\\end{tabular}\n"
      ],
      "text/markdown": [
       "\n",
       "A matrix: 1 × 3 of type dbl\n",
       "\n",
       "| <!--/--> | fit | lwr | upr |\n",
       "|---|---|---|---|\n",
       "| 1 | 18.62856 | 16.22023 | 21.03689 |\n",
       "\n"
      ],
      "text/plain": [
       "  fit      lwr      upr     \n",
       "1 18.62856 16.22023 21.03689"
      ]
     },
     "metadata": {},
     "output_type": "display_data"
    },
    {
     "data": {
      "text/html": [
       "<table class=\"dataframe\">\n",
       "<caption>A matrix: 1 × 3 of type dbl</caption>\n",
       "<thead>\n",
       "\t<tr><th></th><th scope=col>fit</th><th scope=col>lwr</th><th scope=col>upr</th></tr>\n",
       "</thead>\n",
       "<tbody>\n",
       "\t<tr><th scope=row>1</th><td>18.62856</td><td>12.96237</td><td>24.29475</td></tr>\n",
       "</tbody>\n",
       "</table>\n"
      ],
      "text/latex": [
       "A matrix: 1 × 3 of type dbl\n",
       "\\begin{tabular}{r|lll}\n",
       "  & fit & lwr & upr\\\\\n",
       "\\hline\n",
       "\t1 & 18.62856 & 12.96237 & 24.29475\\\\\n",
       "\\end{tabular}\n"
      ],
      "text/markdown": [
       "\n",
       "A matrix: 1 × 3 of type dbl\n",
       "\n",
       "| <!--/--> | fit | lwr | upr |\n",
       "|---|---|---|---|\n",
       "| 1 | 18.62856 | 12.96237 | 24.29475 |\n",
       "\n"
      ],
      "text/plain": [
       "  fit      lwr      upr     \n",
       "1 18.62856 12.96237 24.29475"
      ]
     },
     "metadata": {},
     "output_type": "display_data"
    }
   ],
   "source": [
    "\n",
    "\n",
    "# confidence interval for new data\n",
    "predict(univ,\n",
    "  new = data.frame(cyl = 8, wt = 3, carb= 4, qsec = 18, am = 1),\n",
    "  interval = \"confidence\",\n",
    "  level = .95\n",
    ")\n",
    "\n",
    "# prediction interval for new data\n",
    "predict(univ,\n",
    "  new = data.frame(cyl = 8, wt = 3, carb= 4, qsec = 18, am = 1),\n",
    "  interval = \"prediction\",\n",
    "  level = .95\n",
    ")\n"
   ]
  },
  {
   "cell_type": "markdown",
   "id": "248a8983-a15a-42ff-9166-18fbb99cc0d7",
   "metadata": {},
   "source": [
    "The difference between the confidence and prediction interval is that:\n",
    "\n",
    "- a confidence interval gives the predicted value for the mean of Y  for a new observation, whereas\n",
    "- a prediction interval gives the predicted value for an individual Y  for a new observation.\n",
    "\n",
    "Based on our model, it is expected that this car will drive 18.62 miles with a gallon."
   ]
  },
  {
   "cell_type": "markdown",
   "id": "eccc3d47-9284-4c6d-bdab-94cd6ae7089a",
   "metadata": {
    "tags": []
   },
   "source": [
    "<div class=\"alert alert-block alert-warning\">\n",
    "<b>Exercize:</b> Perform linear regression analysis on the previous dataset using generalize linear model (glm() and aov()).\n",
    "</div>"
   ]
  },
  {
   "cell_type": "code",
   "execution_count": null,
   "id": "2d2250c2-155d-4ec2-9f64-93f38cf12168",
   "metadata": {},
   "outputs": [],
   "source": []
  },
  {
   "cell_type": "code",
   "execution_count": 6,
   "id": "3998227c-0929-4b17-bb06-279cf536f61a",
   "metadata": {
    "tags": []
   },
   "outputs": [
    {
     "data": {
      "text/plain": [
       "            Df Sum Sq Mean Sq F value   Pr(>F)    \n",
       "cyl          1  817.7   817.7 118.037 2.33e-11 ***\n",
       "disp         1   37.6    37.6   5.427  0.02756 *  \n",
       "am           1   18.7    18.7   2.693  0.11236    \n",
       "carb         1   65.0    65.0   9.388  0.00491 ** \n",
       "Residuals   27  187.0     6.9                     \n",
       "---\n",
       "Signif. codes:  0 '***' 0.001 '**' 0.01 '*' 0.05 '.' 0.1 ' ' 1"
      ]
     },
     "metadata": {},
     "output_type": "display_data"
    },
    {
     "data": {
      "text/plain": [
       "            Df Sum Sq Mean Sq F value   Pr(>F)    \n",
       "cyl          1 100984  100984 109.558 8.13e-11 ***\n",
       "drat         1   5122    5122   5.557  0.02621 *  \n",
       "am           1   3014    3014   3.270  0.08213 .  \n",
       "gear         1   7477    7477   8.111  0.00848 ** \n",
       "carb         1   5164    5164   5.603  0.02566 *  \n",
       "Residuals   26  23965     922                     \n",
       "---\n",
       "Signif. codes:  0 '***' 0.001 '**' 0.01 '*' 0.05 '.' 0.1 ' ' 1"
      ]
     },
     "metadata": {},
     "output_type": "display_data"
    },
    {
     "data": {
      "text/plain": [
       "            Df Sum Sq Mean Sq F value   Pr(>F)    \n",
       "cyl          1 18.172  18.172 142.348 4.76e-12 ***\n",
       "disp         1  5.284   5.284  41.392 8.12e-07 ***\n",
       "drat         1  0.478   0.478   3.748  0.06381 .  \n",
       "am           1  0.799   0.799   6.257  0.01900 *  \n",
       "carb         1  1.626   1.626  12.736  0.00142 ** \n",
       "Residuals   26  3.319   0.128                     \n",
       "---\n",
       "Signif. codes:  0 '***' 0.001 '**' 0.01 '*' 0.05 '.' 0.1 ' ' 1"
      ]
     },
     "metadata": {},
     "output_type": "display_data"
    },
    {
     "data": {
      "text/plain": [
       "            Df Sum Sq Mean Sq F value   Pr(>F)    \n",
       "cyl          1  34.60   34.60  45.168 4.82e-07 ***\n",
       "disp         1   5.27    5.27   6.882 0.014624 *  \n",
       "drat         1  16.33   16.33  21.321 0.000100 ***\n",
       "vs           1  10.82   10.82  14.120 0.000921 ***\n",
       "am           1  10.64   10.64  13.893 0.000995 ***\n",
       "gear         1   2.17    2.17   2.827 0.105142    \n",
       "Residuals   25  19.15    0.77                     \n",
       "---\n",
       "Signif. codes:  0 '***' 0.001 '**' 0.01 '*' 0.05 '.' 0.1 ' ' 1"
      ]
     },
     "metadata": {},
     "output_type": "display_data"
    }
   ],
   "source": [
    "univ.mpg <- aov(mpg ~ cyl + disp + am + carb , data = mtcars)\n",
    "summary(univ.mpg)\n",
    "univ.hp <- aov( hp ~ cyl + drat + am + gear + carb, data = mtcars)\n",
    "summary(univ.hp)\n",
    "univ.wt <- aov( wt ~ cyl + disp + drat + am + carb, data = mtcars)\n",
    "summary(univ.wt)\n",
    "univ.qsec <- aov( qsec ~ cyl + disp + drat + vs + am + gear, data = mtcars)\n",
    "summary(univ.qsec)"
   ]
  },
  {
   "cell_type": "markdown",
   "id": "ff5136ac-dee5-40fc-b0d9-baf9c25af39a",
   "metadata": {},
   "source": [
    "The residuals from the four separate regressions can be captured and combined into a single data.frame:"
   ]
  },
  {
   "cell_type": "code",
   "execution_count": 7,
   "id": "e2c04637-18ac-464e-92c0-2454bbdab4a6",
   "metadata": {
    "tags": []
   },
   "outputs": [],
   "source": [
    "car.res <- cbind( univ.mpg$residuals, univ.hp$residuals,\n",
    "+ univ.wt$residuals, univ.qsec$residuals)\n",
    "\n",
    "colnames(car.res)<- c(\"mpg_res\", \"hp_res\", \"wt_res\", \"qsec_res\")\n",
    "car.res <- data.frame(car.res)"
   ]
  },
  {
   "cell_type": "code",
   "execution_count": 8,
   "id": "1b3ff6ad-c58c-4381-893d-55c49b9143af",
   "metadata": {
    "tags": []
   },
   "outputs": [
    {
     "name": "stdout",
     "output_type": "stream",
     "text": [
      "                    mpg_res  hp_res  wt_res qsec_res\n",
      "Mazda RX4           -1.2058 -52.749  0.0626   0.1024\n",
      "Mazda RX4 Wag       -1.2058 -52.749  0.3176   0.6624\n",
      "Datsun 710          -5.2311  26.952  0.2200  -0.3860\n",
      "Hornet 4 Drive       0.9776   2.005 -0.2721  -0.3505\n",
      "Hornet Sportabout    2.6172  -2.006 -0.4413  -0.1633\n",
      "Valiant             -2.9153  -4.267  0.1084   0.3390\n",
      "Duster 360           0.6013  40.623 -0.6863  -1.3216\n",
      "Merc 240D            1.8552 -15.330 -0.0526  -0.4685\n",
      "Merc 230             0.1491  18.585  0.0072   2.5194\n",
      "Merc 280             0.7295 -36.510  0.1899  -0.4940\n",
      "Merc 280C           -0.6705 -36.510  0.1899   0.1060\n",
      "Merc 450SE          -0.0037 -11.129  0.5329   0.2525\n",
      "Merc 450SL           0.8963 -11.129  0.1929   0.4525\n",
      "Merc 450SLC         -1.2037 -11.129  0.2429   0.8525\n",
      "Cadillac Fleetwood  -1.2862  -0.491  0.1742   0.6308\n",
      "Lincoln Continental -1.5018   9.788  0.4465   0.5054\n",
      "Chrysler Imperial    2.4388  25.702  0.5613   0.2041\n",
      "Fiat 128             3.8424   0.867  0.3556   0.5798\n",
      "Honda Civic          2.9806 -23.559 -0.1810  -0.0599\n",
      "Toyota Corolla       5.2059   0.423  0.0781   1.0664\n",
      "Toyota Corona       -2.7149  46.955 -0.4025  -1.0569\n",
      "Dodge Challenger    -1.3375 -28.557 -0.1843  -0.4223\n",
      "AMC Javelin         -1.8891 -27.006 -0.0734   0.1598\n",
      "Camaro Z28          -0.5784  42.690 -0.2128  -1.5555\n",
      "Pontiac Firebird     3.8359  -2.284 -0.3211  -0.1895\n",
      "Fiat X1-9           -1.2522   0.867  0.0886   0.0096\n",
      "Porsche 914-2       -0.6180   0.013 -0.0846  -0.4197\n",
      "Lotus Europa         3.3292  19.389 -0.7176  -1.4925\n",
      "Ford Pantera L      -1.6592  33.599 -0.1131   0.3411\n",
      "Ferrari Dino        -0.3912 -29.912 -0.1520  -0.3249\n",
      "Maserati Bora        1.4107  46.675 -0.3407   0.2332\n",
      "Volvo 142E          -5.2054  30.181  0.4665  -0.3118\n"
     ]
    }
   ],
   "source": [
    "print(car.res, digits=2)"
   ]
  },
  {
   "cell_type": "code",
   "execution_count": 9,
   "id": "f29498e9-a10a-480c-b9f4-3cadbb3b4b23",
   "metadata": {
    "tags": []
   },
   "outputs": [
    {
     "data": {
      "image/png": "[encoded data removed]",
      "text/plain": [
       "Plot with title \"\""
      ]
     },
     "metadata": {
      "image/png": {
       "height": 420,
       "width": 420
      }
     },
     "output_type": "display_data"
    }
   ],
   "source": [
    "windows()\n",
    "layout(matrix(1:4, nrow=2, byrow=T))\n",
    "plot(univ.mpg, which=1) \n",
    "plot(univ.hp, which=1) \n",
    "plot(univ.wt, which=1) \n",
    "plot(univ.qsec, which=1) "
   ]
  },
  {
   "cell_type": "markdown",
   "id": "85f02f13-de68-4422-b491-8003206d4aa2",
   "metadata": {},
   "source": [
    "Observe the car's models!"
   ]
  },
  {
   "cell_type": "markdown",
   "id": "8e0caaae-4107-4b6a-b7d2-b1d00b6d1788",
   "metadata": {},
   "source": [
    "A multivariate examination of these residuals begins with the matrix scatterplot"
   ]
  },
  {
   "cell_type": "code",
   "execution_count": 10,
   "id": "22a3952f-fe14-44f6-aaab-6d7dcc06e562",
   "metadata": {
    "tags": []
   },
   "outputs": [
    {
     "name": "stderr",
     "output_type": "stream",
     "text": [
      "\n",
      "Caricamento pacchetto: 'psych'\n",
      "\n",
      "\n",
      "I seguenti oggetti sono mascherati da 'package:ggplot2':\n",
      "\n",
      "    %+%, alpha\n",
      "\n",
      "\n"
     ]
    },
    {
     "data": {
      "image/png": "[encoded data removed]",
      "text/plain": [
       "plot without title"
      ]
     },
     "metadata": {
      "image/png": {
       "height": 420,
       "width": 420
      }
     },
     "output_type": "display_data"
    }
   ],
   "source": [
    "library(psych)\n",
    "pairs.panels(car.res, scale=TRUE)"
   ]
  },
  {
   "cell_type": "markdown",
   "id": "5c596b26-53d9-4759-a3f2-1f170139dc9e",
   "metadata": {},
   "source": [
    "We observe that there is no strong correlation between residuals. (see the 0.52 as maximum)"
   ]
  },
  {
   "cell_type": "markdown",
   "id": "407e5d0d-c710-4937-8b41-d53bcbc0f94e",
   "metadata": {
    "tags": []
   },
   "source": [
    "Let's plot the [QQ plot](#QQ) if the Mahalanobis distances for the four-dimesional residuals and lets observe the outliers. We can omit the single observation with the largest Mahalnobis distance."
   ]
  },
  {
   "cell_type": "code",
   "execution_count": 11,
   "id": "90b7ead9-a8a8-41e3-9fd6-fb25eda89c64",
   "metadata": {
    "tags": []
   },
   "outputs": [
    {
     "name": "stdout",
     "output_type": "stream",
     "text": [
      "[1] \"Merc 230\"\n"
     ]
    },
    {
     "data": {
      "image/png": "[encoded data removed]",
      "text/plain": [
       "Plot with title \"Q-Q Plot of Mahalanobis Distances with Respect to 4df Chi-Squared Quantile\""
      ]
     },
     "metadata": {
      "image/png": {
       "height": 420,
       "width": 420
      }
     },
     "output_type": "display_data"
    }
   ],
   "source": [
    "mah<-mahalanobis(car.res, colMeans(car.res), var(car.res))\n",
    "\n",
    "outliers= boxplot.stats(mah)$out\n",
    "outlier_names = rownames(car.res)[which(mah %in% outliers)]\n",
    "print(outlier_names)\n",
    "# Plot the Q-Q plot of the Mahalanobis distances with respect to the 4-degree-of-freedom chi-squared quantile\n",
    "qqplot(qchisq(p = ppoints(length(mah)), df = 4),mah, main = \"Q-Q Plot of Mahalanobis Distances with Respect to 4df Chi-Squared Quantile\",xlab = \"Chi-Squared quantile\", ylab =\"Mahalanobis distances from the sample mean\")\n",
    "abline(a = 0, b = 1, col = \"red\")"
   ]
  },
  {
   "cell_type": "code",
   "execution_count": 12,
   "id": "a88d182a-8008-4e10-8799-41820b46beab",
   "metadata": {
    "tags": []
   },
   "outputs": [
    {
     "data": {
      "text/plain": [
       "   Min. 1st Qu.  Median    Mean 3rd Qu.    Max. \n",
       " 0.2801  1.9176  2.8426  3.8750  5.4944 15.8456 "
      ]
     },
     "metadata": {},
     "output_type": "display_data"
    },
    {
     "data": {
      "text/html": [
       "<strong>Merc 230:</strong> 15.8456112659592"
      ],
      "text/latex": [
       "\\textbf{Merc 230:} 15.8456112659592"
      ],
      "text/markdown": [
       "**Merc 230:** 15.8456112659592"
      ],
      "text/plain": [
       "Merc 230 \n",
       "15.84561 "
      ]
     },
     "metadata": {},
     "output_type": "display_data"
    },
    {
     "data": {
      "text/plain": [
       "\n",
       "\tShapiro-Wilk normality test\n",
       "\n",
       "data:  Z\n",
       "W = 0.83886, p-value = 0.0002403\n"
      ]
     },
     "metadata": {},
     "output_type": "display_data"
    },
    {
     "data": {
      "text/plain": [
       "\n",
       "\tShapiro-Wilk normality test\n",
       "\n",
       "data:  Z\n",
       "W = 0.92322, p-value = 0.02877\n"
      ]
     },
     "metadata": {},
     "output_type": "display_data"
    },
    {
     "data": {
      "image/png": "[encoded data removed]",
      "text/plain": [
       "Plot with title \"Normal Q-Q Plot\""
      ]
     },
     "metadata": {
      "image/png": {
       "height": 420,
       "width": 420
      }
     },
     "output_type": "display_data"
    },
    {
     "data": {
      "image/png": "[encoded data removed]",
      "text/plain": [
       "Plot with title \"Q-Q Plot of Mahalanobis Distances with Respect to 4df Chi-Squared Quantile\""
      ]
     },
     "metadata": {
      "image/png": {
       "height": 420,
       "width": 420
      }
     },
     "output_type": "display_data"
    }
   ],
   "source": [
    "summary(mah)\n",
    "# Identify the outliers\n",
    "outliers <- boxplot.stats(mah)$out\n",
    "outliers\n",
    "\n",
    "outlier_names <- rownames(mtcars)[mah %in% outliers]\n",
    "\n",
    "library(mvnormtest)\n",
    "mshapiro.test( t( car.res))\n",
    "\n",
    "outi <- match(max(mah),mah) # index of outlier\n",
    "mshapiro.test( t( car.res[-outi,] ))\n",
    "\n",
    "mah2 <- mahalanobis(car.res[-outi,], colMeans(car.res[-outi,]), var(car.res[-outi,]))\n",
    "qqnorm(mah2)\n",
    "qqline(mah2, col = \"red\")\n",
    "\n",
    "\n",
    "# Plot the Q-Q plot of the Mahalanobis distances with respect to the 4-degree-of-freedom chi-squared quantile\n",
    "qqplot(qchisq(p = ppoints(length(mah2)), df = 4),mah2, main = \"Q-Q Plot of Mahalanobis Distances with Respect to 4df Chi-Squared Quantile\",xlab = \"Chi-Squared quantile\", ylab =\"Mahalanobis distances from the sample mean\")\n",
    "abline(a = 0, b = 1, col = \"red\")"
   ]
  },
  {
   "cell_type": "markdown",
   "id": "989490b4-104e-459b-aa14-50d62099220d",
   "metadata": {
    "tags": []
   },
   "source": [
    "The ﬁt to a multivariate normal distribution improves slightly, but is still suspect."
   ]
  },
  {
   "cell_type": "markdown",
   "id": "2e7019d7-a414-46a6-a0fa-f19554aeb3a9",
   "metadata": {},
   "source": [
    "### Principal component analysis\n",
    "\n",
    "The next step in this multivariable linear regression is to perform a principal components analysis [PCA](#PCA) on these residuals. The object of this examination\n",
    "is to see if there is any additional information remaining between the four\n",
    "dependent variables (mpg, hp, wt, qsec) after accounting the linear effects\n",
    "of the explanatory variables (cyl, disp, drat, vs, am, gear, carb).\n",
    "The principal components analysis in R is"
   ]
  },
  {
   "cell_type": "code",
   "execution_count": 13,
   "id": "ed102e81-2e2d-4ba3-8ff3-4df12ade2fb4",
   "metadata": {
    "tags": []
   },
   "outputs": [
    {
     "name": "stdout",
     "output_type": "stream",
     "text": [
      "Standard deviations (1, .., p=4):\n",
      "[1] 1.312 1.061 0.885 0.607\n",
      "\n",
      "Rotation (n x k) = (4 x 4):\n",
      "            PC1    PC2   PC3    PC4\n",
      "mpg_res   0.160 -0.864 0.277  0.388\n",
      "hp_res    0.426  0.400 0.798  0.146\n",
      "wt_res   -0.658  0.230 0.106  0.709\n",
      "qsec_res -0.600 -0.199 0.524 -0.571\n"
     ]
    }
   ],
   "source": [
    "print(prcomp(car.res, scale = TRUE), digits = 3)"
   ]
  },
  {
   "cell_type": "markdown",
   "id": "41deda72-887e-4a73-99ae-9d2947eb33ec",
   "metadata": {},
   "source": [
    "We observe that PC1 increase when mpg_res and hp_res are incresed and it is positively correlated. On the other hand, PC1 increase wehn wt_res and qse_res decrease.\n",
    "\n",
    "A good visualization is given by the biplot.\n",
    "\n",
    "In the list of ordered standard deviations, we see all four principal components are comparable in magnitude; the largest is just slightly twice the size of the smallest. We interpret the loadings here to mean that the residuals\n",
    "of hp, wt,and qsec are all highly correlated with each. The mpg residuals are independent of these three."
   ]
  },
  {
   "cell_type": "code",
   "execution_count": 17,
   "id": "82a38b11-f644-48db-8bf4-52f40956b2ea",
   "metadata": {
    "tags": []
   },
   "outputs": [
    {
     "data": {
      "image/png": "[encoded data removed]",
      "text/plain": [
       "Plot with title \"Biplot for investment allocations\""
      ]
     },
     "metadata": {
      "image/png": {
       "height": 420,
       "width": 420
      }
     },
     "output_type": "display_data"
    }
   ],
   "source": [
    "pc <- prcomp(car.res, scale = TRUE)\n",
    "biplot(pc, col = c(2, 3), cex = c(.75, 1.5),\n",
    "xlim = c( -.45, .45),\n",
    "xlab = \"First principal component\",\n",
    "ylab = \"Second principal component\",\n",
    "main = \"Biplot for investment allocations\")\n"
   ]
  },
  {
   "cell_type": "markdown",
   "id": "d760dd7c-c38c-4e85-b03b-c6d8ed99a7f8",
   "metadata": {},
   "source": [
    "Stepwise regression automates the model-building process. We start with a linear model containing all of the explanatory variables and removes one at a time. \n",
    "<div class=\"alert alert-block alert-warning\">\n",
    "<b>Exercize:</b> Perform backward stepwise regression. Does the ﬁnal ﬁtted model from this program coincide with our intuition?\n",
    "</div>"
   ]
  },
  {
   "cell_type": "code",
   "execution_count": 14,
   "id": "8326a866-d16a-46bd-8927-1a4b92d72e8f",
   "metadata": {
    "tags": []
   },
   "outputs": [
    {
     "ename": "ERROR",
     "evalue": "Error in stepAIC(univ): non trovo la funzione \"stepAIC\"\n",
     "output_type": "error",
     "traceback": [
      "Error in stepAIC(univ): non trovo la funzione \"stepAIC\"\nTraceback:\n"
     ]
    }
   ],
   "source": [
    "backward <- stepAIC(univ)\n",
    "summary(backward)"
   ]
  },
  {
   "cell_type": "markdown",
   "id": "06764022-4f2a-4057-b891-58862b3ede02",
   "metadata": {
    "tags": []
   },
   "source": [
    "## Linear Discriminant analysis"
   ]
  },
  {
   "cell_type": "markdown",
   "id": "816f638c-2a54-4a9e-acc9-fbc733d4f8f1",
   "metadata": {
    "tags": []
   },
   "source": [
    "In discriminant analysis we try to identify linear combinations of several variables that can be used to distinguish between the groups. \n",
    "Discriminant Analysis (DA) is a statistical technique used to identify the relationship between one or more independent variables and a categorical dependent variable."
   ]
  },
  {
   "cell_type": "markdown",
   "id": "02a07129-9fcb-4d1d-920d-5051f3b60356",
   "metadata": {},
   "source": [
    "Let's apply linear discriminant analysis on mtcars dataset. In particular let's use as categorical dependen variable the number of cylinders:"
   ]
  },
  {
   "cell_type": "code",
   "execution_count": null,
   "id": "1166947f-c4c5-4252-905d-5b2ddec5c09a",
   "metadata": {
    "tags": []
   },
   "outputs": [],
   "source": [
    "library(MASS)\n",
    "# we use the lda() function\n",
    "lda1 <- lda(cyl ~ mpg + hp + qsec + drat + disp, data = mtcars)\n",
    "summary(lda1)\n",
    "\n",
    "Class=unclass(as.factor(mtcars$cyl))\n",
    "pairs(mtcars[c(\"mpg\", \"hp\", \"qsec\", \"drat\", \"disp\")], pch = 21, cex=2, bg = c(\"red\", \"blue\", \"green\")[unclass(as.factor(mtcars$cyl))])"
   ]
  },
  {
   "cell_type": "code",
   "execution_count": null,
   "id": "76d9becc-76ab-40a7-98e2-16beb37b1df5",
   "metadata": {
    "tags": []
   },
   "outputs": [],
   "source": [
    "loading <- as.matrix(mtcars[c(\"mpg\", \"hp\", \"qsec\", \"drat\", \"disp\")]) %*% lda1$scaling\n",
    "plot(loading, col = c(\"red\", \"blue\", \"green\")[unclass(as.factor(mtcars$cyl))],\n",
    "pch = 16, cex = 1.25,\n",
    "xlab = \"First linear discriminator\",\n",
    "ylab = \"Second linear discriminator\")\n",
    "for(i in 1:3) #addclass number to each centroid\n",
    "{\n",
    "    centx <- mean(loading[unclass(as.factor(mtcars$cyl)) == i,][,1])\n",
    "    centy <- mean(loading[unclass(as.factor(mtcars$cyl)) == i,][,2])\n",
    "    text(centx, centy, i, cex = 2)\n",
    "}"
   ]
  },
  {
   "cell_type": "markdown",
   "id": "6bc310eb-af8e-471e-9905-c25b55f1d1e1",
   "metadata": {},
   "source": [
    "We can observe a clear distinction between the three cylinders cars.\n",
    "\n",
    "The fitted (posterior) estimated probabilities of group membership can be obtained as predict(ld)$posterior"
   ]
  },
  {
   "cell_type": "code",
   "execution_count": null,
   "id": "9326220e-db56-409b-8f31-13543341abaa",
   "metadata": {},
   "outputs": [],
   "source": [
    "pred <- predict(lda1)\n",
    "summary(pred)\n",
    "ldahist(data = pred$x[,1], g=mtcars$cyl)\n"
   ]
  },
  {
   "cell_type": "markdown",
   "id": "f21267f4-f7bd-4d49-a992-abf1ba06bc1c",
   "metadata": {},
   "source": [
    "<a id='QQ'></a>\n",
    "\n",
    "\n",
    "A simple graphical method for checking normality is the quantile–quantile plot or QQ plot.This plot compares the quantiles of the observed values with those of the theoretical distribution, hence the name QQ. The QQ plot displays the sorted, observed values against the values that we would expect to observe had they been sampled from a theoretical normal distribution. If the observed data was sampled from a normal distribution, then we would expect these values to form a nearly straight line."
   ]
  },
  {
   "cell_type": "markdown",
   "id": "8544741b-bf24-4695-81d2-e6fa4dc9429a",
   "metadata": {
    "tags": []
   },
   "source": [
    "<a id='PCA'></a>\n",
    "\n",
    "PCA commonly used for dimensionality reduction by using each data point onto only the first few principal components (most cases first and second dimensions) to obtain lower-dimensional data while keeping as much of the data’s variation as possible.\n",
    "\n",
    "The first principal component can equivalently be defined as a direction that maximizes the variance of the projected data."
   ]
  },
  {
   "cell_type": "code",
   "execution_count": null,
   "id": "968739e0-8a7e-471f-848b-8ff0c9a3b014",
   "metadata": {},
   "outputs": [],
   "source": []
  }
 ],
 "metadata": {
  "kernelspec": {
   "display_name": "R",
   "language": "R",
   "name": "ir"
  },
  "language_info": {
   "codemirror_mode": "r",
   "file_extension": ".r",
   "mimetype": "text/x-r-source",
   "name": "R",
   "pygments_lexer": "r",
   "version": "4.1.3"
  }
 },
 "nbformat": 4,
 "nbformat_minor": 5
}
